{
 "cells": [
  {
   "cell_type": "code",
   "execution_count": 2,
   "id": "fc0b486a-efe0-4cff-bb57-24b8d81fefd0",
   "metadata": {
    "tags": []
   },
   "outputs": [],
   "source": [
    "import cv2  \n",
    "import numpy as np"
   ]
  },
  {
   "cell_type": "code",
   "execution_count": null,
   "id": "36568bf3-1893-48de-b6a0-5cfb718e036b",
   "metadata": {
    "tags": []
   },
   "outputs": [],
   "source": [
    "def nothing (x) :\n",
    "    pass\n",
    "img=np.zeros((300,512,3),dtype=np.uint8)\n",
    "cv2.namedWindow(\"image\")\n",
    "cv2.createTrackbar('B',\"image\",0,255,nothing)\n",
    "cv2.createTrackbar('G',\"image\",0,255,nothing)\n",
    "cv2.createTrackbar('R',\"image\",0,255,nothing)\n",
    "cv2.createTrackbar('on or off',\"image\",0,1,nothing)\n",
    "while True:\n",
    "    cv2.imshow('image',img)\n",
    "    k=cv2.waitKey(1)\n",
    "    if k==ord('s'):\n",
    "        break\n",
    "    b=cv2.getTrackbarPos('B',\"image\")\n",
    "    g=cv2.getTrackbarPos('G',\"image\")\n",
    "    r=cv2.getTrackbarPos('R',\"image\")\n",
    "    s=cv2.getTrackbarPos('on or off',\"image\")\n",
    "    if s!=0:\n",
    "        img[:]=[b,g,r]\n",
    "    \n",
    "cv2.destroyAllWindows()"
   ]
  },
  {
   "cell_type": "code",
   "execution_count": null,
   "id": "453dc714-c406-4b43-ba05-3b61d0a128d5",
   "metadata": {},
   "outputs": [],
   "source": []
  },
  {
   "cell_type": "code",
   "execution_count": null,
   "id": "8fe025ba-dc5e-44ec-9fac-7e00053ada52",
   "metadata": {
    "tags": []
   },
   "outputs": [],
   "source": []
  },
  {
   "cell_type": "code",
   "execution_count": null,
   "id": "e81f9012-9796-4620-a1a5-1e425d22060c",
   "metadata": {},
   "outputs": [],
   "source": []
  },
  {
   "cell_type": "code",
   "execution_count": null,
   "id": "763a7d7b-4217-4782-bfb9-6daa03eccf0f",
   "metadata": {},
   "outputs": [],
   "source": []
  }
 ],
 "metadata": {
  "kernelspec": {
   "display_name": "Python 3 (ipykernel)",
   "language": "python",
   "name": "python3"
  },
  "language_info": {
   "codemirror_mode": {
    "name": "ipython",
    "version": 3
   },
   "file_extension": ".py",
   "mimetype": "text/x-python",
   "name": "python",
   "nbconvert_exporter": "python",
   "pygments_lexer": "ipython3",
   "version": "3.11.3"
  }
 },
 "nbformat": 4,
 "nbformat_minor": 5
}
